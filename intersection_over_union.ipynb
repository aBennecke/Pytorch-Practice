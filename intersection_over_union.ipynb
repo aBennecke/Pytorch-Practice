{
 "cells": [
  {
   "cell_type": "markdown",
   "id": "22e4dfbf",
   "metadata": {},
   "source": [
    "### Import packages + Define IOU function"
   ]
  },
  {
   "cell_type": "code",
   "execution_count": 1,
   "id": "a228b25f",
   "metadata": {},
   "outputs": [],
   "source": [
    "# import the necessary packages\n",
    "from collections import namedtuple\n",
    "import numpy as np\n",
    "import cv2\n",
    "\n",
    "# define the `Detection` object\n",
    "'''\n",
    "image_path: The path to our input image\n",
    "gt: The ground-truth bounding box\n",
    "pred: The predicted bounding box\n",
    "'''\n",
    "Detection = namedtuple(\"Detection\", [\"image_path\", \"gt\", \"pred\"])"
   ]
  },
  {
   "cell_type": "code",
   "execution_count": 2,
   "id": "0dbc2ae7",
   "metadata": {},
   "outputs": [],
   "source": [
    "'''\n",
    "boxA: The ground-truth bounding box\n",
    "boxB: The predicted bounding box\n",
    "- Order doesn't matter:\n",
    "  - bb_intersection_over_union(boxA, boxB) == bb(boxB, boxA)\n",
    "'''\n",
    "def bb_intersection_over_union(boxA, boxB):\n",
    "    # determine the (x, y)-coordinates of the intersection rectangle\n",
    "    xA = max(boxA[0], boxB[0])\n",
    "    yA = max(boxA[1], boxB[1])\n",
    "    xB = min(boxA[2], boxB[2])\n",
    "    yB = min(boxA[3], boxB[3])\n",
    "    \n",
    "    # compute the area of intersection rectangle\n",
    "    '''\n",
    "    interArea == Numerator of IOU ratio\n",
    "    '''\n",
    "    interArea = max(0, xB - xA + 1) * max(0, yB - yA + 1)\n",
    "    \n",
    "    # compute the area of both the prediction and ground-truth rectangles\n",
    "    boxAArea = (boxA[2] - boxA[0] + 1) * (boxA[3] - boxA[1] + 1)\n",
    "    boxBArea = (boxB[2] - boxB[0] + 1) * (boxB[3] - boxB[1] + 1)\n",
    "\n",
    "    # compute the intersection over union by taking the intersection\n",
    "    # area and dividing it by the sum of prediction + ground-truth\n",
    "    # areas - the interesection area\n",
    "    iou = interArea / float(boxAArea + boxBArea - interArea)\n",
    "    \n",
    "    # return the intersection over union value\n",
    "    return iou"
   ]
  },
  {
   "cell_type": "code",
   "execution_count": 10,
   "id": "13be7b7f",
   "metadata": {},
   "outputs": [],
   "source": [
    "'''\n",
    "Predicted bounding boxes taken from pre-existing model to speed up tutorial\n",
    "'''\n",
    "# define the list of example detections\n",
    "examples = [\n",
    "    Detection(\"image_0002.jpg\", [39, 63, 203, 112], [54, 66, 198, 114]),\n",
    "    Detection(\"image_0016.jpg\", [49, 75, 203, 125], [42, 78, 186, 126]),\n",
    "    Detection(\"image_0075.jpg\", [31, 69, 201, 125], [18, 63, 235, 135]),\n",
    "    Detection(\"image_0090.jpg\", [50, 72, 197, 121], [54, 72, 198, 120]),\n",
    "    Detection(\"image_0120.jpg\", [35, 51, 196, 110], [36, 60, 180, 108])]"
   ]
  },
  {
   "cell_type": "code",
   "execution_count": 12,
   "id": "d54b4e50",
   "metadata": {},
   "outputs": [
    {
     "name": "stdout",
     "output_type": "stream",
     "text": [
      "Detection(image_path='image_0120.jpg', gt=[35, 51, 196, 110], pred=[36, 60, 180, 108])\n",
      "image_0120.jpg: 0.7310\n"
     ]
    },
    {
     "ename": "error",
     "evalue": "OpenCV(4.6.0) D:\\a\\opencv-python\\opencv-python\\opencv\\modules\\highgui\\src\\window.cpp:967: error: (-215:Assertion failed) size.width>0 && size.height>0 in function 'cv::imshow'\n",
     "output_type": "error",
     "traceback": [
      "\u001b[1;31m---------------------------------------------------------------------------\u001b[0m",
      "\u001b[1;31merror\u001b[0m                                     Traceback (most recent call last)",
      "\u001b[1;32m~\\AppData\\Local\\Temp/ipykernel_13108/2315947716.py\u001b[0m in \u001b[0;36m<module>\u001b[1;34m\u001b[0m\n\u001b[0;32m     16\u001b[0m \u001b[1;33m\u001b[0m\u001b[0m\n\u001b[0;32m     17\u001b[0m     \u001b[1;31m# show the output image\u001b[0m\u001b[1;33m\u001b[0m\u001b[1;33m\u001b[0m\u001b[0m\n\u001b[1;32m---> 18\u001b[1;33m     \u001b[0mcv2\u001b[0m\u001b[1;33m.\u001b[0m\u001b[0mimshow\u001b[0m\u001b[1;33m(\u001b[0m\u001b[1;34m\"Image\"\u001b[0m\u001b[1;33m,\u001b[0m \u001b[0mimage\u001b[0m\u001b[1;33m)\u001b[0m\u001b[1;33m\u001b[0m\u001b[1;33m\u001b[0m\u001b[0m\n\u001b[0m\u001b[0;32m     19\u001b[0m     \u001b[0mcv2\u001b[0m\u001b[1;33m.\u001b[0m\u001b[0mwaitKey\u001b[0m\u001b[1;33m(\u001b[0m\u001b[1;36m0\u001b[0m\u001b[1;33m)\u001b[0m\u001b[1;33m\u001b[0m\u001b[1;33m\u001b[0m\u001b[0m\n",
      "\u001b[1;31merror\u001b[0m: OpenCV(4.6.0) D:\\a\\opencv-python\\opencv-python\\opencv\\modules\\highgui\\src\\window.cpp:967: error: (-215:Assertion failed) size.width>0 && size.height>0 in function 'cv::imshow'\n"
     ]
    }
   ],
   "source": [
    "# loop over the example detections\n",
    "for detection in examples:\n",
    "    # load the image\n",
    "    image = cv2.imread(detection.image_path)\n",
    "\n",
    "    # draw the ground-truth bounding box along with the predicted\n",
    "    # bounding box\n",
    "    cv2.rectangle(image, tuple(detection.gt[:2]), tuple(detection.gt[2:]), (0, 255, 0), 2)\n",
    "    cv2.rectangle(image, tuple(detection.pred[:2]), tuple(detection.pred[2:]), (0, 0, 255), 2)\n",
    "    \n",
    "    # compute the intersection over union and display it\n",
    "    iou = bb_intersection_over_union(detection.gt, detection.pred)\n",
    "    cv2.putText(image, \"IoU: {:.4f}\".format(iou), (10, 30), cv2.FONT_HERSHEY_SIMPLEX, 0.6, (0, 255, 0), 2)\n",
    "    print(\"{}: {:.4f}\".format(detection.image_path, iou))\n",
    "    \n",
    "    # show the output image\n",
    "    cv2.imshow(\"Image\", image)\n",
    "    cv2.waitKey(0)"
   ]
  }
 ],
 "metadata": {
  "kernelspec": {
   "display_name": "Python 3 (ipykernel)",
   "language": "python",
   "name": "python3"
  },
  "language_info": {
   "codemirror_mode": {
    "name": "ipython",
    "version": 3
   },
   "file_extension": ".py",
   "mimetype": "text/x-python",
   "name": "python",
   "nbconvert_exporter": "python",
   "pygments_lexer": "ipython3",
   "version": "3.9.7"
  }
 },
 "nbformat": 4,
 "nbformat_minor": 5
}
