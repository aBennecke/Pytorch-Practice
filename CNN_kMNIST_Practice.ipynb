{
 "cells": [
  {
   "cell_type": "code",
   "execution_count": 1,
   "id": "588950df",
   "metadata": {},
   "outputs": [],
   "source": [
    "# Import libraries\n",
    "\n",
    "import torch\n",
    "from torch.utils.data import Dataset\n",
    "from torchvision import datasets\n",
    "from torchvision.transforms import ToTensor\n",
    "import matplotlib.pyplot as plt\n",
    "import numpy as np"
   ]
  },
  {
   "cell_type": "code",
   "execution_count": 2,
   "id": "6f8abd0c",
   "metadata": {},
   "outputs": [],
   "source": [
    "# Load datasets\n",
    "\n",
    "training_data = datasets.MNIST(\n",
    "    root=\"data\",\n",
    "    train=True,\n",
    "    download=True,\n",
    "    transform=ToTensor()\n",
    ")\n",
    "\n",
    "test_data = datasets.MNIST(\n",
    "    root=\"data\",\n",
    "    train=False,\n",
    "    download=True,\n",
    "    transform=ToTensor()\n",
    ")"
   ]
  },
  {
   "cell_type": "code",
   "execution_count": 3,
   "id": "18fe4cb6",
   "metadata": {},
   "outputs": [
    {
     "data": {
      "image/png": "[encoded data removed]",
      "text/plain": [
       "<Figure size 432x288 with 1 Axes>"
      ]
     },
     "metadata": {
      "needs_background": "light"
     },
     "output_type": "display_data"
    }
   ],
   "source": [
    "# Data exploration\n",
    "\n",
    "idx = torch.randint(len(training_data), size=(1,)).item()\n",
    "label = training_data[idx][1]\n",
    "image = training_data[idx][0]\n",
    "\n",
    "plt.title(label)\n",
    "plt.imshow(image.squeeze(), cmap='gray')\n",
    "\n",
    "plt.show()"
   ]
  },
  {
   "cell_type": "code",
   "execution_count": 4,
   "id": "98605d84",
   "metadata": {
    "scrolled": true
   },
   "outputs": [
    {
     "data": {
      "image/png": "[encoded data removed]",
      "text/plain": [
       "<Figure size 432x288 with 1 Axes>"
      ]
     },
     "metadata": {
      "needs_background": "light"
     },
     "output_type": "display_data"
    }
   ],
   "source": [
    "all_labels = []\n",
    "\n",
    "for img, label in training_data:\n",
    "    all_labels.append(label)\n",
    "\n",
    "plt.hist(all_labels)\n",
    "plt.title('Distribution of MNIST dataset')\n",
    "plt.xlabel('Label')\n",
    "plt.ylabel('Counts of Labels')\n",
    "plt.xticks([0, 1, 2, 3, 4, 5, 6, 7, 8, 9])\n",
    "\n",
    "plt.show()"
   ]
  },
  {
   "cell_type": "markdown",
   "id": "dcf06b9b",
   "metadata": {},
   "source": [
    "## Implementing a Convolutional Neural Network (CNN) with PyTorch"
   ]
  },
  {
   "cell_type": "code",
   "execution_count": 5,
   "id": "be151c43",
   "metadata": {},
   "outputs": [],
   "source": [
    "# Build the model\n",
    "# https://pyimagesearch.com/2021/07/19/pytorch-training-your-first-convolutional-neural-network-cnn/\n",
    "\n",
    "from torch.nn import Module     # A subclass of Sequential\n",
    "from torch.nn import Conv2d     # A 2D Convolutional layer\n",
    "from torch.nn import Linear     # A fully connected layer\n",
    "from torch.nn import MaxPool2d  # Applies 2D max-pooling\n",
    "from torch.nn import ReLU       # ReLU activation function\n",
    "from torch.nn import LogSoftmax # The softmax activation function\n",
    "from torch import flatten       # Flattens a multi-dimensional volume,\n",
    "                                # so that fully-connected layers can \n",
    "                                # be applied to it\n",
    "\n",
    "class LeNet(Module): # Creates a subclass of the Module object, so we have more control\n",
    "    \n",
    "    '''\n",
    "    numChannels = 1 for grayscale and = 3 for color\n",
    "    \n",
    "    classes = num of unique class labels in the dataset\n",
    "    \n",
    "    This function simply initializes all the placeholders, but no \n",
    "    architecture has been created yet\n",
    "    '''\n",
    "    def __init__(self, numChannels, classes):\n",
    "        # call the parent constructor - Performs several PyTorch-specific setup operations\n",
    "        super(LeNet, self).__init__()\n",
    "\n",
    "        # initialize first set of CONV => RELU => POOL layers\n",
    "        '''\n",
    "        This first Conv layer applies 20 5x5 filters\n",
    "        ReLu applied to inc the non-linearity in images b/c images are naturally very NON-linear\n",
    "        - This reduces the linearity imposed by the Conv operation\n",
    "        Followed by a Max-pooling layer where pool size = 2\n",
    "        '''\n",
    "        self.conv1 = Conv2d(in_channels=numChannels, out_channels=20, kernel_size=(5, 5))\n",
    "        self.relu1 = ReLU()\n",
    "        self.maxpool1 = MaxPool2d(kernel_size=(2, 2), stride=(2, 2))\n",
    "\n",
    "        # initialize second set of CONV => RELU => POOL layers\n",
    "        '''\n",
    "        This second Conv layer applies 50 5x5 filters\n",
    "        ReLU applied for same reason as above\n",
    "        Followed by a Max-pooling layer where pool size = 2\n",
    "        '''\n",
    "        self.conv2 = Conv2d(in_channels=20, out_channels=50, kernel_size=(5, 5))\n",
    "        self.relu2 = ReLU()\n",
    "        self.maxpool2 = MaxPool2d(kernel_size=(2, 2), stride=(2, 2))\n",
    "\n",
    "        # initialize first (and only) set of FC => RELU layers\n",
    "        '''\n",
    "        Define fully-connected layer with 800 inputs and 500 output nodes\n",
    "        ReLU applied for same reasons as above\n",
    "        '''\n",
    "        self.fc1 = Linear(in_features=800, out_features=500)\n",
    "        self.relu3 = ReLU()\n",
    "\n",
    "        # initialize our softmax classifier\n",
    "        '''\n",
    "        Define fullly-connected layer with 500 inputs and 'classes' outputs\n",
    "        Softmax applied to define end of forward process\n",
    "        '''\n",
    "        self.fc2 = Linear(in_features=500, out_features=classes)\n",
    "        self.logSoftmax = LogSoftmax(dim=1)\n",
    "\n",
    "    '''\n",
    "    1) Connects layers defined in the class constructor (__init__)\n",
    "    2) Defines the actual network architecture\n",
    "    3) Allows the forward pass to be performed (=> Output)\n",
    "    4) Due to PyTorch's 'autograd' module, we also can perform \n",
    "       automatic differentiation and update our model weights\n",
    "       \n",
    "    x: The batch of input data to the whole nn\n",
    "    '''\n",
    "    def forward(self, x):\n",
    "        # pass the input through our first set of CONV => RELU =>\n",
    "        # POOL layers\n",
    "        '''\n",
    "        Connects the x => conv1 => relu1 => maxpool1 => (next) layers\n",
    "        '''\n",
    "        x = self.conv1(x)\n",
    "        x = self.relu1(x)\n",
    "        x = self.maxpool1(x)\n",
    "        \n",
    "        # pass the output from the previous layer through the second\n",
    "        # set of CONV => RELU => POOL layers\n",
    "        '''\n",
    "        Connects the (prev) => conv2 => relu2 => maxpool2 => (next) layers\n",
    "        '''\n",
    "        x = self.conv2(x)\n",
    "        x = self.relu2(x)\n",
    "        x = self.maxpool2(x)\n",
    "        \n",
    "        # flatten the output from the previous layer and pass it\n",
    "        # through our only set of FC => RELU layers\n",
    "        '''\n",
    "        1) Reduces the multi-dimensional tensor, x, to a 1D 'array'\n",
    "        2) Connect the (prev) => fc1 => relu3 => (next) layers\n",
    "        '''\n",
    "        x = flatten(x, 1)\n",
    "        x = self.fc1(x)\n",
    "        x = self.relu3(x)\n",
    "        \n",
    "        # pass the output to our softmax classifier to get our output\n",
    "        # predictions\n",
    "        '''\n",
    "        Connects the (prev) => fc2 => logSoftmax => output layers\n",
    "        '''\n",
    "        x = self.fc2(x)\n",
    "        output = self.logSoftmax(x)\n",
    "        \n",
    "        # return the output predictions\n",
    "        return output"
   ]
  },
  {
   "cell_type": "markdown",
   "id": "21fe46d4",
   "metadata": {},
   "source": [
    "## Creating our CNN training script with PyTorch"
   ]
  },
  {
   "cell_type": "markdown",
   "id": "529fe35d",
   "metadata": {},
   "source": [
    "### Important initializations"
   ]
  },
  {
   "cell_type": "code",
   "execution_count": 6,
   "id": "e87bc955",
   "metadata": {},
   "outputs": [],
   "source": [
    "# set the matplotlib backend so figures can be saved in the background\n",
    "import matplotlib\n",
    "matplotlib.use(\"Agg\")\n",
    "\n",
    "# import the necessary packages\n",
    "from sklearn.metrics import classification_report # Displays details of testing_set performance\n",
    "from torch.utils.data import random_split         # Constructs a random train/test split\n",
    "from torch.utils.data import DataLoader           # PyTorch utility used to build data pipelines to train the CNN\n",
    "from torchvision.transforms import ToTensor       # Converts input data into a PyTorch tensor\n",
    "from torchvision.datasets import KMNIST           # the Kuzushiji-MNISt DataLoader\n",
    "from torch.optim import Adam                      # The optimizer we'll use for training\n",
    "from torch import nn                              # PyTorch's nn implementations\n",
    "\n",
    "import matplotlib.pyplot as plt\n",
    "import numpy as np\n",
    "import argparse\n",
    "import torch\n",
    "import time\n",
    "\n",
    "\n",
    "# ======================= IGNORED FROM TUTORIAL - torch.save used instead\n",
    "# ==== Construct the argument parser and parse the arguments\n",
    "#ap = argparse.ArgumentParser()\n",
    "\n",
    "# Outputs the serialized model after training\n",
    "#ap.add_argument(\"-m\", \"--model\", type=str, required=True, help=\"path to output trained model\")\n",
    "\n",
    "# The path to our output training history plot\n",
    "#ap.add_argument(\"-p\", \"--plot\", type=str, required=True, help=\"path to output loss/accuracy plot\")\n",
    "\n",
    "# ???\n",
    "#args = vars(ap.parse_args())\n",
    "# ======================= IGNORED FROM TUTORIAL - torch.save used instead\n",
    "\n",
    "# ==== Define training hyperparameters\n",
    "INIT_LR = 1e-3\n",
    "BATCH_SIZE = 64 # Number of samples used in each iteration\n",
    "EPOCHS = 10\n",
    "\n",
    "# ==== Define the training and validation splits\n",
    "TRAIN_SPLIT = 0.75\n",
    "VAL_SPLIT = 1 - TRAIN_SPLIT\n",
    "\n",
    "# set the device we will be using to train the model (cpu vs gpu)\n",
    "device = torch.device(\"cuda\" if torch.cuda.is_available() else \"cpu\")"
   ]
  },
  {
   "cell_type": "markdown",
   "id": "090a6f08",
   "metadata": {},
   "source": [
    "### Preparing the dataset"
   ]
  },
  {
   "cell_type": "code",
   "execution_count": 7,
   "id": "c09e1010",
   "metadata": {},
   "outputs": [
    {
     "name": "stdout",
     "output_type": "stream",
     "text": [
      "[INFO] loading the KMNIST dataset...\n",
      "[INFO] generating the train/validation split...\n"
     ]
    }
   ],
   "source": [
    "# load the KMNIST dataset\n",
    "print(\"[INFO] loading the KMNIST dataset...\")\n",
    "trainData = KMNIST(root=\"data\", train=True, download=True, transform=ToTensor())\n",
    "testData  = KMNIST(root=\"data\", train=False, download=True, transform=ToTensor())\n",
    "\n",
    "# Calculate the train/validation split\n",
    "print(\"[INFO] generating the train/validation split...\")\n",
    "numTrainSamples = int(len(trainData) * TRAIN_SPLIT)\n",
    "numValSamples = int(len(trainData) * VAL_SPLIT)\n",
    "(trainData, valData) = random_split(trainData, [numTrainSamples, numValSamples], generator=torch.Generator().manual_seed(42))\n",
    "\n",
    "# Initialize the train, validation, and test data loaders\n",
    "trainDataLoader = DataLoader(trainData, shuffle=True, batch_size=BATCH_SIZE)\n",
    "valDataLoader = DataLoader(valData, batch_size=BATCH_SIZE)\n",
    "testDataLoader = DataLoader(testData, batch_size=BATCH_SIZE)\n",
    "\n",
    "# Calculate steps per epoch for training and validation set\n",
    "trainSteps = len(trainDataLoader.dataset) // BATCH_SIZE\n",
    "valSteps = len(valDataLoader.dataset) // BATCH_SIZE"
   ]
  },
  {
   "cell_type": "markdown",
   "id": "3d84f5b4",
   "metadata": {},
   "source": [
    "### Initialize LeNet"
   ]
  },
  {
   "cell_type": "code",
   "execution_count": 8,
   "id": "6841a7bc",
   "metadata": {},
   "outputs": [
    {
     "name": "stdout",
     "output_type": "stream",
     "text": [
      "[INFO] initializing the LeNet model...\n"
     ]
    }
   ],
   "source": [
    "# initialize the LeNet model\n",
    "'''\n",
    "numChannels = 1 b/c images are grayscale\n",
    "\n",
    "to(device) moves model to CPU or GPU\n",
    "'''\n",
    "print(\"[INFO] initializing the LeNet model...\")\n",
    "model = LeNet(numChannels=1, classes=len(trainData.dataset.classes)).to(device)\n",
    "\n",
    "# initialize our optimizer and loss function\n",
    "'''\n",
    "Adam optimizer used\n",
    "\n",
    "NLL == Negative Log Likelihood\n",
    "- NLL class + LogSoftMax = Categorical Cross-entropy Loss\n",
    "'''\n",
    "opt = Adam(model.parameters(), lr=INIT_LR)\n",
    "lossFn = nn.NLLLoss()\n",
    "\n",
    "# initialize a dictionary to store training history\n",
    "'''\n",
    "After every epoch, we will update the dictionary with the below values\n",
    "'''\n",
    "H = {\n",
    "    \"train_loss\": [],\n",
    "    \"train_acc\": [],\n",
    "    \"val_loss\": [],\n",
    "    \"val_acc\": []\n",
    "}"
   ]
  },
  {
   "cell_type": "markdown",
   "id": "e1cfe315",
   "metadata": {},
   "source": [
    "## Training, validating, and testing the CNN"
   ]
  },
  {
   "cell_type": "code",
   "execution_count": 9,
   "id": "8f880b58",
   "metadata": {},
   "outputs": [
    {
     "name": "stdout",
     "output_type": "stream",
     "text": [
      "[INFO] training the network...\n",
      "[INFO] EPOCH: 1/10\n",
      "Train loss: 0.344964, Train accuracy: 0.8917\n",
      "Val loss: 0.131555, Val accuracy: 0.9611\n",
      "\n",
      "[INFO] EPOCH: 2/10\n",
      "Train loss: 0.093094, Train accuracy: 0.9717\n",
      "Val loss: 0.093599, Val accuracy: 0.9727\n",
      "\n",
      "[INFO] EPOCH: 3/10\n",
      "Train loss: 0.053700, Train accuracy: 0.9835\n",
      "Val loss: 0.078764, Val accuracy: 0.9772\n",
      "\n",
      "[INFO] EPOCH: 4/10\n",
      "Train loss: 0.035285, Train accuracy: 0.9889\n",
      "Val loss: 0.067579, Val accuracy: 0.9814\n",
      "\n",
      "[INFO] EPOCH: 5/10\n",
      "Train loss: 0.022266, Train accuracy: 0.9930\n",
      "Val loss: 0.090858, Val accuracy: 0.9757\n",
      "\n",
      "[INFO] EPOCH: 6/10\n",
      "Train loss: 0.018041, Train accuracy: 0.9939\n",
      "Val loss: 0.070515, Val accuracy: 0.9816\n",
      "\n",
      "[INFO] EPOCH: 7/10\n",
      "Train loss: 0.015539, Train accuracy: 0.9950\n",
      "Val loss: 0.082226, Val accuracy: 0.9810\n",
      "\n",
      "[INFO] EPOCH: 8/10\n",
      "Train loss: 0.009025, Train accuracy: 0.9972\n",
      "Val loss: 0.074267, Val accuracy: 0.9831\n",
      "\n",
      "[INFO] EPOCH: 9/10\n",
      "Train loss: 0.011767, Train accuracy: 0.9961\n",
      "Val loss: 0.081782, Val accuracy: 0.9792\n",
      "\n",
      "[INFO] EPOCH: 10/10\n",
      "Train loss: 0.008753, Train accuracy: 0.9973\n",
      "Val loss: 0.088243, Val accuracy: 0.9813\n",
      "\n",
      "[INFO] total time taken to train the model: 582.75s\n",
      "[INFO] evaluating network...\n",
      "              precision    recall  f1-score   support\n",
      "\n",
      "           o       0.93      0.97      0.95      1000\n",
      "          ki       0.95      0.94      0.95      1000\n",
      "          su       0.97      0.85      0.90      1000\n",
      "         tsu       0.97      0.96      0.97      1000\n",
      "          na       0.95      0.94      0.94      1000\n",
      "          ha       0.92      0.96      0.94      1000\n",
      "          ma       0.93      0.98      0.95      1000\n",
      "          ya       0.97      0.96      0.97      1000\n",
      "          re       0.96      0.97      0.96      1000\n",
      "          wo       0.95      0.96      0.96      1000\n",
      "\n",
      "    accuracy                           0.95     10000\n",
      "   macro avg       0.95      0.95      0.95     10000\n",
      "weighted avg       0.95      0.95      0.95     10000\n",
      "\n"
     ]
    }
   ],
   "source": [
    "# measure how long training is going to take\n",
    "print(\"[INFO] training the network...\")\n",
    "startTime = time.time()\n",
    "\n",
    "# ========================================\n",
    "# ===== TRAINING AND VALIDATION LOOP =====\n",
    "# ========================================\n",
    "\n",
    "# loop over our epochs for training and validating\n",
    "for e in range(0, EPOCHS):\n",
    "    # set the model in training mode\n",
    "    model.train()\n",
    "    \n",
    "    # initialize the total training and validation loss\n",
    "    totalTrainLoss = 0\n",
    "    totalValLoss = 0\n",
    "    \n",
    "    # initialize the number of correct predictions in the training and validation steps\n",
    "    trainCorrect = 0\n",
    "    valCorrect = 0\n",
    "\n",
    "    # loop over the training set\n",
    "    '''\n",
    "    PyTorch's DataLoader class allows us to simply use a for loop to iterate through a dataset\n",
    "    \n",
    "    Any additional data pre-processing or augmentation would occur here\n",
    "    '''\n",
    "    for (x, y) in trainDataLoader:\n",
    "        # send the input to the device\n",
    "        (x, y) = (x.to(device), y.to(device))\n",
    "    \n",
    "        # perform a forward pass and calculate the training loss\n",
    "        pred = model(x)        # The forward pass\n",
    "        loss = lossFn(pred, y) # Calculation of loss\n",
    "        \n",
    "        # zero out the gradients, perform the backpropagation step, and update the weights\n",
    "        '''\n",
    "        VERY IMPORTANT - These 3 steps must be performed in this order before doing ANYTHING ELSE\n",
    "        '''\n",
    "        opt.zero_grad() # Zeros out the gradients\n",
    "        loss.backward() # Performs backpropagation\n",
    "        opt.step()      # Updates model weights\n",
    "\n",
    "        # add the loss to the total training loss so far and calculate the number of correct predictions\n",
    "        totalTrainLoss += loss\n",
    "        trainCorrect += (pred.argmax(1) == y).type(torch.float).sum().item()\n",
    "        \n",
    "    # switch off autograd for evaluation\n",
    "    with torch.no_grad():\n",
    "        # set the model in evaluation mode\n",
    "        model.eval()\n",
    "        \n",
    "        # loop over the validation set\n",
    "        for (x, y) in valDataLoader:\n",
    "            # send the input to the device\n",
    "            (x, y) = (x.to(device), y.to(device))\n",
    "            \n",
    "            # make the predictions and calculate the validation loss\n",
    "            pred = model(x)\n",
    "            totalValLoss += lossFn(pred, y)\n",
    "            \n",
    "            # calculate the number of correct predictions\n",
    "            valCorrect += (pred.argmax(1) == y).type(\n",
    "                torch.float).sum().item()\n",
    "            \n",
    "    # calculate the average training and validation loss\n",
    "    avgTrainLoss = totalTrainLoss / trainSteps\n",
    "    avgValLoss = totalValLoss / valSteps\n",
    "    \n",
    "    # calculate the training and validation accuracy\n",
    "    trainCorrect = trainCorrect / len(trainDataLoader.dataset)\n",
    "    valCorrect = valCorrect / len(valDataLoader.dataset)\n",
    "    \n",
    "    # update our training history\n",
    "    H[\"train_loss\"].append(avgTrainLoss.cpu().detach().numpy())\n",
    "    H[\"train_acc\"].append(trainCorrect)\n",
    "    H[\"val_loss\"].append(avgValLoss.cpu().detach().numpy())\n",
    "    H[\"val_acc\"].append(valCorrect)\n",
    "    \n",
    "    # print the model training and validation information\n",
    "    print(\"[INFO] EPOCH: {}/{}\".format(e + 1, EPOCHS))\n",
    "    print(\"Train loss: {:.6f}, Train accuracy: {:.4f}\".format(avgTrainLoss, trainCorrect))\n",
    "    print(\"Val loss: {:.6f}, Val accuracy: {:.4f}\\n\".format(avgValLoss, valCorrect))\n",
    "    \n",
    "# finish measuring how long training took\n",
    "endTime = time.time()\n",
    "print(\"[INFO] total time taken to train the model: {:.2f}s\".format(endTime - startTime))\n",
    "\n",
    "# ========================\n",
    "# ===== TESTING LOOP =====\n",
    "# ========================\n",
    "\n",
    "# we can now evaluate the network on the test set\n",
    "print(\"[INFO] evaluating network...\")\n",
    "\n",
    "# turn off autograd for testing evaluation\n",
    "with torch.no_grad():\n",
    "    # set the model in evaluation mode\n",
    "    model.eval()\n",
    "\n",
    "    # initialize a list to store our predictions\n",
    "    preds = []\n",
    "    \n",
    "    # loop over the test set\n",
    "    for (x, y) in testDataLoader:\n",
    "        # send the input to the device\n",
    "        x = x.to(device)\n",
    "        \n",
    "        # make the predictions and add them to the list\n",
    "        pred = model(x)\n",
    "        preds.extend(pred.argmax(axis=1).cpu().numpy())\n",
    "\n",
    "# generate a classification report\n",
    "print(classification_report(testData.targets.cpu().numpy(), np.array(preds), target_names=testData.classes))"
   ]
  },
  {
   "cell_type": "markdown",
   "id": "1e8de57d",
   "metadata": {},
   "source": [
    "### Display a very detailed classification_report"
   ]
  },
  {
   "cell_type": "code",
   "execution_count": 17,
   "id": "f2971931",
   "metadata": {},
   "outputs": [
    {
     "data": {
      "image/png": "[encoded data removed]",
      "text/plain": [
       "<Figure size 432x288 with 1 Axes>"
      ]
     },
     "metadata": {},
     "output_type": "display_data"
    }
   ],
   "source": [
    "# plot the training + validation loss and accuracy over epochs\n",
    "plt.style.use(\"ggplot\")\n",
    "plt.figure()\n",
    "plt.plot(H[\"train_loss\"], label=\"train_loss\")\n",
    "plt.plot(H[\"val_loss\"], label=\"val_loss\")\n",
    "plt.plot(H[\"train_acc\"], label=\"train_acc\")\n",
    "plt.plot(H[\"val_acc\"], label=\"val_acc\")\n",
    "plt.title(\"Training Loss and Accuracy on Dataset\")\n",
    "plt.xlabel(\"Epoch #\")\n",
    "plt.ylabel(\"Loss/Accuracy\")\n",
    "plt.legend(loc=\"lower left\")\n",
    "# plt.savefig(args[\"plot\"])\n",
    "\n",
    "# serialize the model to disk\n",
    "torch.save(model, r\"C:\\Users\\jandr\\0. Tward Lab\\model.pth\")\n",
    "# torch.save(model, args[\"model\"])"
   ]
  },
  {
   "cell_type": "markdown",
   "id": "e2da704e",
   "metadata": {},
   "source": [
    "### Implementing the PyTorch prediction script"
   ]
  },
  {
   "cell_type": "code",
   "execution_count": 23,
   "id": "cd1d2fa5",
   "metadata": {},
   "outputs": [],
   "source": [
    "# set the numpy seed for better reproducibility\n",
    "import numpy as np\n",
    "np.random.seed(42)\n",
    "\n",
    "# import the necessary packages\n",
    "from torch.utils.data import DataLoader\n",
    "from torch.utils.data import Subset         # Builds a subset of test data\n",
    "from torchvision.transforms import ToTensor\n",
    "from torchvision.datasets import KMNIST\n",
    "import argparse\n",
    "import imutils                              # https://github.com/PyImageSearch/imutils\n",
    "import torch\n",
    "import cv2                                  # OpenCV bindings used for displaying output images"
   ]
  },
  {
   "cell_type": "code",
   "execution_count": 25,
   "id": "a6b8d15f",
   "metadata": {},
   "outputs": [
    {
     "name": "stdout",
     "output_type": "stream",
     "text": [
      "[INFO] loading the KMNIST test dataset...\n"
     ]
    },
    {
     "data": {
      "text/plain": [
       "LeNet(\n",
       "  (conv1): Conv2d(1, 20, kernel_size=(5, 5), stride=(1, 1))\n",
       "  (relu1): ReLU()\n",
       "  (maxpool1): MaxPool2d(kernel_size=(2, 2), stride=(2, 2), padding=0, dilation=1, ceil_mode=False)\n",
       "  (conv2): Conv2d(20, 50, kernel_size=(5, 5), stride=(1, 1))\n",
       "  (relu2): ReLU()\n",
       "  (maxpool2): MaxPool2d(kernel_size=(2, 2), stride=(2, 2), padding=0, dilation=1, ceil_mode=False)\n",
       "  (fc1): Linear(in_features=800, out_features=500, bias=True)\n",
       "  (relu3): ReLU()\n",
       "  (fc2): Linear(in_features=500, out_features=10, bias=True)\n",
       "  (logSoftmax): LogSoftmax(dim=1)\n",
       ")"
      ]
     },
     "execution_count": 25,
     "metadata": {},
     "output_type": "execute_result"
    }
   ],
   "source": [
    "# set the device we will be using to test the model\n",
    "device = torch.device(\"cuda\" if torch.cuda.is_available() else \"cpu\")\n",
    "\n",
    "# load the KMNIST dataset and randomly grab 10 data points\n",
    "print(\"[INFO] loading the KMNIST test dataset...\")\n",
    "testData = KMNIST(root=\"data\", train=False, download=True,transform=ToTensor())\n",
    "idxs = np.random.choice(range(0, len(testData)), size=(10,)) # Randomly sample 10 images\n",
    "testData = Subset(testData, idxs)\n",
    "\n",
    "# initialize the test data loader\n",
    "testDataLoader = DataLoader(testData, batch_size=1)\n",
    "\n",
    "# load the model and set it to evaluation mode\n",
    "model_loaded = torch.load(r\"C:\\Users\\jandr\\0. Tward Lab\\model.pth\").to(device)\n",
    "model_loaded.eval()"
   ]
  },
  {
   "cell_type": "markdown",
   "id": "5b500d2b",
   "metadata": {},
   "source": [
    "### Make predictions on a sample from the test set "
   ]
  },
  {
   "cell_type": "code",
   "execution_count": null,
   "id": "2c478aef",
   "metadata": {},
   "outputs": [
    {
     "name": "stdout",
     "output_type": "stream",
     "text": [
      "[INFO] ground truth label: ya, predicted label: ya\n",
      "[INFO] ground truth label: su, predicted label: su\n",
      "[INFO] ground truth label: ya, predicted label: ya\n"
     ]
    }
   ],
   "source": [
    "# switch off autograd\n",
    "with torch.no_grad():\n",
    "    # loop over the test set\n",
    "    for (image, label) in testDataLoader:\n",
    "        # grab the original image and ground truth label\n",
    "        origImage = image.numpy().squeeze(axis=(0, 1))\n",
    "        gtLabel = testData.dataset.classes[label.numpy()[0]]\n",
    "        \n",
    "        # send the input to the device and make predictions on it\n",
    "        image = image.to(device)\n",
    "        pred = model_loaded(image)\n",
    "        \n",
    "        # find the class label index with the largest corresponding probability\n",
    "        idx = pred.argmax(axis=1).cpu().numpy()[0]\n",
    "        predLabel = testData.dataset.classes[idx]\n",
    "        \n",
    "        # convert the image from grayscale to RGB (so we can draw on\n",
    "        # it) and resize it (so we can more easily see it on our screen)\n",
    "        origImage = np.dstack([origImage] * 3)\n",
    "        origImage = imutils.resize(origImage, width=128)\n",
    "        \n",
    "        # draw the predicted class label on it\n",
    "        color = (0, 255, 0) if gtLabel == predLabel else (0, 0, 255)\n",
    "        cv2.putText(origImage, gtLabel, (2, 25),\n",
    "        cv2.FONT_HERSHEY_SIMPLEX, 0.95, color, 2)\n",
    "        \n",
    "        # display the result in terminal and show the input image\n",
    "        print(\"[INFO] ground truth label: {}, predicted label: {}\".format(gtLabel, predLabel))\n",
    "        cv2.imshow(\"image\", origImage)\n",
    "        cv2.waitKey(0)"
   ]
  }
 ],
 "metadata": {
  "kernelspec": {
   "display_name": "Python 3 (ipykernel)",
   "language": "python",
   "name": "python3"
  },
  "language_info": {
   "codemirror_mode": {
    "name": "ipython",
    "version": 3
   },
   "file_extension": ".py",
   "mimetype": "text/x-python",
   "name": "python",
   "nbconvert_exporter": "python",
   "pygments_lexer": "ipython3",
   "version": "3.9.7"
  }
 },
 "nbformat": 4,
 "nbformat_minor": 5
}
